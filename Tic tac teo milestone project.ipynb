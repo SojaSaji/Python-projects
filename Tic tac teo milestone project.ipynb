{
 "cells": [
  {
   "cell_type": "markdown",
   "id": "cf297abb-5c76-433b-9348-fcb2e136998e",
   "metadata": {},
   "source": [
    "## Tic tac teo Project \n",
    "Soja P.S."
   ]
  },
  {
   "cell_type": "code",
   "execution_count": null,
   "id": "f47b3993-693e-4a3c-9a3d-8d4ba5232f63",
   "metadata": {},
   "outputs": [
    {
     "name": "stdout",
     "output_type": "stream",
     "text": [
      "  |   | \n",
      "  |   | \n",
      "  |   | \n",
      "----------\n",
      "  |   | \n",
      "X |   | \n",
      "  |   | \n",
      "----------\n"
     ]
    },
    {
     "name": "stdin",
     "output_type": "stream",
     "text": [
      "Enter the position to insert:  8\n"
     ]
    },
    {
     "name": "stdout",
     "output_type": "stream",
     "text": [
      "  |   | \n",
      "X |   | \n",
      "  | O | \n",
      "----------\n",
      "  |   | \n",
      "X |   | \n",
      "  | O | \n",
      "----------\n",
      "X |   | \n",
      "X |   | \n",
      "  | O | \n",
      "----------\n"
     ]
    },
    {
     "name": "stdin",
     "output_type": "stream",
     "text": [
      "Enter the position to insert:  9\n"
     ]
    },
    {
     "name": "stdout",
     "output_type": "stream",
     "text": [
      "X |   | \n",
      "X |   | \n",
      "  | O |O\n",
      "----------\n",
      "X |   | \n",
      "X |   | \n",
      "  | O |O\n",
      "----------\n",
      "X | X | \n",
      "X |   | \n",
      "  | O |O\n",
      "----------\n"
     ]
    },
    {
     "name": "stdin",
     "output_type": "stream",
     "text": [
      "Enter the position to insert:  8\n"
     ]
    }
   ],
   "source": [
    "import random\n",
    "\n",
    "# Initialize the board with 10 spaces, index 0 is not used for convenience\n",
    "board = [' '] * 10\n",
    "\n",
    "# Define the markers for the computer and human players\n",
    "computer = 'X'\n",
    "human = 'O'\n",
    "\n",
    "# Function to display the current state of the board\n",
    "def display_board(board):\n",
    "    print(f'{board[1]} | {board[2]} |{board[3]}')\n",
    "    print(f'{board[4]} | {board[5]} |{board[6]}')\n",
    "    print(f'{board[7]} | {board[8]} |{board[9]}')\n",
    "    print('-' * 10)\n",
    "\n",
    "# Function to check if there is a winner\n",
    "def check_win():\n",
    "    # Check all possible winning combinations\n",
    "    if board[1] == board[2] == board[3] and board[1] != ' ':\n",
    "        return True\n",
    "    elif board[4] == board[5] == board[6] and board[4] != ' ':\n",
    "        return True\n",
    "    elif board[7] == board[8] == board[9] and board[7] != ' ':\n",
    "        return True\n",
    "    elif board[1] == board[4] == board[7] and board[1] != ' ':\n",
    "        return True\n",
    "    elif board[2] == board[5] == board[8] and board[2] != ' ':\n",
    "        return True\n",
    "    elif board[3] == board[6] == board[9] and board[3] != ' ':\n",
    "        return True\n",
    "    elif board[1] == board[5] == board[9] and board[1] != ' ':\n",
    "        return True\n",
    "    elif board[7] == board[5] == board[3] and board[7] != ' ':\n",
    "        return True\n",
    "    else:\n",
    "        return False\n",
    "\n",
    "# Function to check if the game is a draw\n",
    "def check_draw():\n",
    "    # If there are less than 2 empty spaces, the game is a draw\n",
    "    if board.count(' ') < 2:\n",
    "        return True\n",
    "    else:\n",
    "        return False\n",
    "\n",
    "# Function to check if a position on the board is available\n",
    "def is_available(pos):\n",
    "    return True if board[pos] == ' ' else False\n",
    "\n",
    "# Function to insert a marker on the board\n",
    "def insert(letter, pos):\n",
    "    if is_available(pos):  # Check if the position is available\n",
    "        board[pos] = letter  # Place the marker on the board\n",
    "        display_board(board)  # Display the updated board\n",
    "        if check_win():  # Check if the current player has won\n",
    "            if letter == 'X':\n",
    "                print(\"Computer Wins\")\n",
    "                return True  # Return True to indicate the game is over\n",
    "            else:\n",
    "                print(\"Human Wins\")\n",
    "                return True  # Return True to indicate the game is over\n",
    "        if check_draw():  # Check if the game is a draw\n",
    "            print(\"Draw\")\n",
    "            return True  # Return True to indicate the game is over\n",
    "    else:  # If the position is not available\n",
    "        if letter == 'O':  # If it's the human's turn\n",
    "            pos = int(input(\"Not Free! Please re-enter a position: \"))  # Ask for a new position\n",
    "        else:  # If it's the computer's turn\n",
    "            pos = random.randint(1, 9)  # Choose a random position\n",
    "        insert(letter, pos)  # Try to insert again with the new position\n",
    "    return False  # Return False to indicate the game continues\n",
    "\n",
    "# Function to handle the human's move\n",
    "def human_move(letter):\n",
    "    pos = int(input(\"Enter the position to insert: \"))  # Ask for the position to insert\n",
    "    return insert(letter, pos)  # Insert the marker at the chosen position and return game status\n",
    "\n",
    "# Function to handle the computer's move\n",
    "def computer_move(letter):\n",
    "    pos = random.randint(1, 9)  # Choose a random position\n",
    "    return insert(letter, pos)  # Insert the marker at the chosen position and return game status\n",
    "\n",
    "# Main game loop\n",
    "while True:\n",
    "    display_board(board)  # Display the board\n",
    "    if computer_move(computer):  # Make the computer move and check if the game is over\n",
    "        break\n",
    "    if human_move(human):  # Make the human move and check if the game is over\n",
    "        break\n"
   ]
  },
  {
   "cell_type": "code",
   "execution_count": null,
   "id": "00462ac9-a88d-43e3-b03c-d0646d8c4f03",
   "metadata": {},
   "outputs": [],
   "source": []
  }
 ],
 "metadata": {
  "kernelspec": {
   "display_name": "Python 3 (ipykernel)",
   "language": "python",
   "name": "python3"
  },
  "language_info": {
   "codemirror_mode": {
    "name": "ipython",
    "version": 3
   },
   "file_extension": ".py",
   "mimetype": "text/x-python",
   "name": "python",
   "nbconvert_exporter": "python",
   "pygments_lexer": "ipython3",
   "version": "3.11.7"
  }
 },
 "nbformat": 4,
 "nbformat_minor": 5
}
